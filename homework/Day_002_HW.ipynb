{
 "cells": [
  {
   "cell_type": "markdown",
   "metadata": {},
   "source": [
    "## [作業目標]\n",
    "了解機器學習適合應用的領域與範疇。"
   ]
  },
  {
   "cell_type": "markdown",
   "metadata": {},
   "source": [
    "## [作業重點]\n",
    "透過瞭解機器學習的運作方式，找出非常適用機器學習應用的領域及其原因"
   ]
  },
  {
   "cell_type": "markdown",
   "metadata": {},
   "source": [
    "## 作業\n",
    "請找出一個你認為機器學習可以發光發熱的領域並闡述原因? "
   ]
  },
  {
   "cell_type": "code",
   "execution_count": null,
   "metadata": {},
   "outputs": [],
   "source": [
    "機器學習對於重複性高、目標明確的問題都發揮得不錯，我覺得機器學習在醫療領域能有很大的發展空間，能讓人類的醫療水平得到很大的進步\n",
    "以手術來說，能用AI來輔助畢竟AI沒有感情的波動也不容易失誤，能讓手術成功率大幅的提高。\n",
    "像是對於癌症的研究及治療，利用機器學習將過往的數據做分析也能更精確的判斷出是甚麼樣的癌症並且用最正確的方式來治療，\n",
    "以往人們對於癌症是不治之症的印象也會隨著機器學習的應用醫療水平大幅進步後，癌症也能變得像是感冒一樣能夠輕鬆的痊癒。"
   ]
  }
 ],
 "metadata": {
  "kernelspec": {
   "display_name": "Python 3",
   "language": "python",
   "name": "python3"
  },
  "language_info": {
   "codemirror_mode": {
    "name": "ipython",
    "version": 3
   },
   "file_extension": ".py",
   "mimetype": "text/x-python",
   "name": "python",
   "nbconvert_exporter": "python",
   "pygments_lexer": "ipython3",
   "version": "3.7.6"
  }
 },
 "nbformat": 4,
 "nbformat_minor": 2
}
